{
 "cells": [
  {
   "cell_type": "code",
   "execution_count": 5,
   "metadata": {},
   "outputs": [],
   "source": [
    "# import dependencies\n",
    "\n",
    "from dash import Dash, html, dcc\n",
    "from IPython.display import HTML\n",
    "from dash.dependencies import Input, Output  # Make sure to import Input and Output\n",
    "import pandas as pd\n",
    "import plotly.express as px\n",
    "HTML('<link rel=\"stylesheet\" type=\"text/css\" href=\"styles/mains.css\">')\n",
    "\n",
    "#get dataset\n",
    "df = pd.read_csv('/Users/dor.frechter/Desktop/DS4003/A4_student/gdp_pcap.csv')\n",
    "yearList= []\n",
    "unique_countries = df['country'].unique()\n",
    "for i in range(1800,2101): #get a list of all the years\n",
    "    yearList.append(i)\n"
   ]
  },
  {
   "cell_type": "code",
   "execution_count": 6,
   "metadata": {},
   "outputs": [],
   "source": [
    "def getBounds():\n",
    "    first_row = df.iloc[0]\n",
    "    counter =0\n",
    "    min=100000\n",
    "    max=0\n",
    "    for value in first_row.items():\n",
    "        if(counter!=0):\n",
    "            value= int(value[0])\n",
    "            if(value > max):\n",
    "                max = value\n",
    "            if(value < min):\n",
    "                min = value\n",
    "        counter+=1\n",
    "    return [min,max]"
   ]
  },
  {
   "cell_type": "code",
   "execution_count": 7,
   "metadata": {},
   "outputs": [
    {
     "name": "stdout",
     "output_type": "stream",
     "text": [
      "im here\n",
      "Dash app running on http://127.0.0.1:8050/\n"
     ]
    },
    {
     "data": {
      "application/javascript": "window.open('http://127.0.0.1:8050/')",
      "text/plain": [
       "<IPython.core.display.Javascript object>"
      ]
     },
     "metadata": {},
     "output_type": "display_data"
    }
   ],
   "source": [
    "\n",
    "app = Dash(__name__)\n",
    "\n",
    "bounds = getBounds()\n",
    "app.layout = html.Div([\n",
    "    html.Link(rel=\"stylesheet\", href='styles/main.css'),\n",
    "    html.H1('GDP Per Capita Over Time', className='header'), #html elements to format the app\n",
    "    html.H3('My first Dash app!', className='subheader'),\n",
    "    html.P('This dash app provides a neat way to represent the change in GDP per capita over the course of many years. The user has the option to select the countries and the years they want to see. The graph will update accordingly. The user can also highlight the sections he is interested in within the graph and the sizing of the graph will adjust accordingly. This is my first dash app and I am excited to see it in work!'),\n",
    "    html.H4('Select Countries:',className='controls-title'),\n",
    "    html.H4('Select Years:' ,className='controls-title'),\n",
    "    html.Div( className='controls-container',\n",
    "        children = [\n",
    "        dcc.Dropdown(\n",
    "            className='dropdown',\n",
    "            id='country-dropdown',\n",
    "            options=[{'label': country, 'value': country} for country in unique_countries],\n",
    "        value=[unique_countries[0]],  # Default value\n",
    "        multi=True  # Allow multiple selections\n",
    "            )\n",
    "    ,\n",
    "      dcc.RangeSlider(\n",
    "          className='slider',\n",
    "        id = 'year-range-slider',\n",
    "        min = bounds[0], \n",
    "        max = bounds[1], \n",
    "        step = 1,\n",
    "        marks=None,\n",
    "        value = [bounds[0]+100,bounds[1]-100], #default\n",
    "            tooltip={\n",
    "        \"always_visible\": True,\n",
    "    } #format the slider so we can see the values and it looks clean\n",
    "      ),\n",
    "      ]),\n",
    "    dcc.Graph(id='gdp-percap-graph', className='graph')  # Placeholder for the graph\n",
    "])\n",
    "\n",
    "@app.callback(\n",
    "    Output('gdp-percap-graph', 'figure'),\n",
    "    [Input('country-dropdown', 'value'), #upate the graph as the output based on the inputs of the id's i specified earlier for the drop down and the range slider.\n",
    "     Input('year-range-slider', 'value')]\n",
    ")\n",
    "def update_graph(selected_countries, selected_years):\n",
    "    filtered_df = df[df['country'].isin(selected_countries)] #filter the data based on the selected countries \n",
    "    selected_columns = ['country'] + [str(year) for year in range(selected_years[0], selected_years[1] + 1)] #select the columns based on the selected years\n",
    "    filtered_df = filtered_df[selected_columns] #filter the data based on the selected columns\n",
    "\n",
    "    melted_df = filtered_df.melt(id_vars=['country'], var_name='year', value_name='gdpPercap') #melt the data so we can use it in the graph\n",
    "\n",
    "    fig = px.line(melted_df, x='year', y='gdpPercap', color='country', title='GDP Per Capita Over Time',\n",
    "                  labels={'gdpPercap': 'GDP per Capita', 'year': 'Year', 'country': 'Country'}) #create the graph\n",
    "    \n",
    "    fig.update_xaxes(\n",
    "        title=\"Year\",  \n",
    "        type='linear',  \n",
    "        nticks=20, \n",
    "        range=[str(selected_years[0]), str(selected_years[1])]   # Update x-axis\n",
    "    )\n",
    "    # Update y-axis\n",
    "    fig.update_yaxes(\n",
    "        title=\"GDP per Capita\", \n",
    "        type='linear', \n",
    "        tickmode='auto', \n",
    "        autorange=True  )\n",
    "    return fig\n",
    "\n",
    "\n",
    "\n",
    "if __name__ == '__main__': #run the app\n",
    "    app.run(jupyter_mode='tab', debug=True)"
   ]
  }
 ],
 "metadata": {
  "kernelspec": {
   "display_name": "ds4003",
   "language": "python",
   "name": "python3"
  },
  "language_info": {
   "codemirror_mode": {
    "name": "ipython",
    "version": 3
   },
   "file_extension": ".py",
   "mimetype": "text/x-python",
   "name": "python",
   "nbconvert_exporter": "python",
   "pygments_lexer": "ipython3",
   "version": "3.8.18"
  }
 },
 "nbformat": 4,
 "nbformat_minor": 2
}
